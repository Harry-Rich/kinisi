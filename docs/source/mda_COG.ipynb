{
 "cells": [
  {
   "cell_type": "markdown",
   "id": "235dee9e-d50a-4cb4-8c25-fa0f3fc33c50",
   "metadata": {},
   "source": [
    "# Diffusion coefficient of molecules using center of mass\n",
    "\n",
    "`kinisi` includes the ability to calculate the mean-squared displacement and diffusion coefficient of the center of mass (or geometry) of molecules. This can be done for a single molecule or a collection of molecules. \n",
    "\n",
    "<div class=\"alert alert-warning\">\n",
    "\n",
    "Warning\n",
    "\n",
    "The warnings that are being ignored are related to the parsing of the files by `MDAnalysis` and lead to unnecessary print out to the screen that we want to avoid in the web documentation.\n",
    "</div>"
   ]
  },
  {
   "cell_type": "code",
   "execution_count": 2,
   "id": "cc9626ec-5a7d-4be9-a23c-6721f6f4addc",
   "metadata": {},
   "outputs": [],
   "source": [
    "import numpy as np\n",
    "import MDAnalysis as mda\n",
    "import matplotlib.pyplot as plt\n",
    "from kinisi.analyze import DiffusionAnalyzer\n",
    "import warnings\n",
    "warnings.filterwarnings(\"ignore\", category=UserWarning)"
   ]
  },
  {
   "cell_type": "markdown",
   "id": "144679f3-d48e-49af-a7bb-4f9a4d5cd02e",
   "metadata": {},
   "source": [
    "We will start by calculating for the center of geometry. This is done by setting `specie` to None and specifying the indices of the molecules of interest in `specie_indices`. To define moelcules, a list of lists should be passed under the `specie_indices` keyword. The outer list has one entry per molecule and each inter list has the indices of that molecule. Only molecules of the same size are supported."
   ]
  },
  {
   "cell_type": "code",
   "execution_count": null,
   "id": "61cc6b61-7e5b-4b87-ab8c-58ba55def62e",
   "metadata": {},
   "outputs": [],
   "source": [
    "molecules = [[1,2,3],[4,5,6]]\n",
    "\n",
    "p_parms = {'specie':None,\n",
    "           'time_step':\n",
    "           'specie_indices':molecules\n",
    "           }"
   ]
  }
 ],
 "metadata": {
  "kernelspec": {
   "display_name": "Python 3 (ipykernel)",
   "language": "python",
   "name": "python3"
  },
  "language_info": {
   "codemirror_mode": {
    "name": "ipython",
    "version": 3
   },
   "file_extension": ".py",
   "mimetype": "text/x-python",
   "name": "python",
   "nbconvert_exporter": "python",
   "pygments_lexer": "ipython3",
   "version": "3.11.6"
  }
 },
 "nbformat": 4,
 "nbformat_minor": 5
}
