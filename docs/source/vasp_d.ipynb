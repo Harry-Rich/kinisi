{
 "cells": [
  {
   "cell_type": "markdown",
   "metadata": {},
   "source": [
    "# Diffusion coefficient from a VASP file\n",
    "\n",
    "Using ``kinisi`` for the analysis of a VASP Xdatcar type file is really straightforward and involves using the ``DiffusionAnalyzer`` class."
   ]
  },
  {
   "cell_type": "code",
   "execution_count": null,
   "metadata": {},
   "outputs": [],
   "source": [
    "import numpy as np\n",
    "from kinisi.analyze import DiffusionAnalyzer\n",
    "from pymatgen.io.vasp import Xdatcar\n",
    "np.random.seed(42)"
   ]
  },
  {
   "cell_type": "markdown",
   "metadata": {},
   "source": [
    "There the ``p_params`` dictionary describes details about the simulation, and are documented in the [parser module](./parser.html)."
   ]
  },
  {
   "cell_type": "code",
   "execution_count": null,
   "metadata": {},
   "outputs": [],
   "source": [
    "p_params = {'specie': 'Li',\n",
    "            'time_step': 2.0,\n",
    "            'step_skip': 50,\n",
    "            'min_obs': 50}"
   ]
  },
  {
   "cell_type": "code",
   "execution_count": null,
   "metadata": {},
   "outputs": [],
   "source": [
    "xd = Xdatcar('example_XDATCAR.gz')\n",
    "diff = DiffusionAnalyzer.from_Xdatcar(xd, parser_params=p_params)"
   ]
  },
  {
   "cell_type": "markdown",
   "metadata": {},
   "source": [
    "In the above cells, we parse and determine the uncertainty on the mean-squared displacement as a function of timestep. \n",
    "We should visualise this, to check that we are observing diffusion in our material and to determine the timescale at which this diffusion begins. "
   ]
  },
  {
   "cell_type": "code",
   "execution_count": null,
   "metadata": {},
   "outputs": [],
   "source": [
    "import matplotlib.pyplot as plt"
   ]
  },
  {
   "cell_type": "code",
   "execution_count": null,
   "metadata": {},
   "outputs": [],
   "source": [
    "plt.errorbar(diff.dt, diff.msd, diff.msd_std)\n",
    "plt.axvline(diff.ngp_max, color='g')\n",
    "plt.ylabel('MSD/Å$^2$')\n",
    "plt.xlabel('$\\Delta t$/ps')\n",
    "plt.show()"
   ]
  },
  {
   "cell_type": "markdown",
   "metadata": {},
   "source": [
    "The vertical green line indicates the start of the diffusive regime, based on the maximum of the [non-Gaussian parameter](https://doi.org/10.1073/pnas.1900239116). \n",
    "We can also visualise this on a log-log scale, which helps to reveal the diffusive regime. "
   ]
  },
  {
   "cell_type": "code",
   "execution_count": null,
   "metadata": {},
   "outputs": [],
   "source": [
    "plt.errorbar(diff.dt, diff.msd, diff.msd_std)\n",
    "plt.axvline(diff.ngp_max, color='g')\n",
    "plt.ylabel('MSD/Å$^2$')\n",
    "plt.xlabel('$\\Delta t$/ps')\n",
    "plt.yscale('log')\n",
    "plt.xscale('log')\n",
    "plt.show()"
   ]
  },
  {
   "cell_type": "markdown",
   "metadata": {},
   "source": [
    "It appears that the non-Gaussian parameter does an okay job at predicting the start of the diffusive regime for this system, so we will set `use_ngp` to `True` such that this is used in the fitting.\n",
    "If we wanted to use a different estimate, say 4 ps which looks more like the real start, we could use the keyword argument of `dt_skip=4`. \n",
    "The `d_params` dictionary defines parameters about the diffusion estimation, documented in the [diffusion module](https://kinisi.readthedocs.io/en/latest/diffusion.html#kinisi.diffusion.MSDBootstrap). "
   ]
  },
  {
   "cell_type": "code",
   "execution_count": null,
   "metadata": {},
   "outputs": [],
   "source": [
    "d_params = {'use_ngp': True}"
   ]
  },
  {
   "cell_type": "markdown",
   "metadata": {},
   "source": [
    "We can then run the diffusion analysis as follows. "
   ]
  },
  {
   "cell_type": "code",
   "execution_count": null,
   "metadata": {},
   "outputs": [],
   "source": [
    "diff.diffusion(d_params)"
   ]
  },
  {
   "cell_type": "markdown",
   "metadata": {},
   "source": [
    "This method estimates the correlation matrix between the timesteps and uses likelihood sampling to find the diffusion coefficient, $D$ and intercept (the units are cm<sup>2</sup>/s and Å<sup>2</sup> respectively).\n",
    "Now we can probe these objects.\n",
    "\n",
    "We can get the median and 95 % confidence interval using, "
   ]
  },
  {
   "cell_type": "code",
   "execution_count": null,
   "metadata": {},
   "outputs": [],
   "source": [
    "diff.D, diff.intercept"
   ]
  },
  {
   "cell_type": "markdown",
   "metadata": {},
   "source": [
    "Or we can get all of the sampled values from one of these objects. "
   ]
  },
  {
   "cell_type": "code",
   "execution_count": null,
   "metadata": {},
   "outputs": [],
   "source": [
    "diff.D.samples"
   ]
  },
  {
   "cell_type": "markdown",
   "metadata": {},
   "source": [
    "We can plot the data and some of the samples from the $D$ and $D_{\\text{offset}}$ distribution (the `60000` is to convert the units)."
   ]
  },
  {
   "cell_type": "code",
   "execution_count": null,
   "metadata": {},
   "outputs": [],
   "source": [
    "plt.errorbar(diff.dt, diff.msd, diff.msd_std)\n",
    "for i in np.random.choice(diff.D.size, size=100):\n",
    "    plt.plot(diff.dt, diff.D.samples[i] * 60000 * diff.dt + diff.intercept.samples[i], 'k', alpha=0.1, zorder=10) \n",
    "plt.axvline(diff.ngp_max, color='g')\n",
    "plt.ylabel('MSD/Å$^2$')\n",
    "plt.xlabel('$\\Delta t$/ps')\n",
    "plt.show()"
   ]
  },
  {
   "cell_type": "markdown",
   "metadata": {},
   "source": [
    "Additionally, we can visualise the distribution of the diffusion coefficient that has been determined."
   ]
  },
  {
   "cell_type": "code",
   "execution_count": null,
   "metadata": {},
   "outputs": [],
   "source": [
    "plt.hist(diff.D.samples, density=True)\n",
    "plt.axvline(diff.D.n, c='k')\n",
    "plt.xlabel('$D$/cm$^2$s$^{-1}$')\n",
    "plt.ylabel('$p(D$/cm$^2$s$^{-1})$')\n",
    "plt.show()"
   ]
  },
  {
   "cell_type": "code",
   "execution_count": null,
   "metadata": {},
   "outputs": [],
   "source": []
  }
 ],
 "metadata": {
  "kernelspec": {
   "display_name": "Python 3 (ipykernel)",
   "language": "python",
   "name": "python3"
  },
  "language_info": {
   "codemirror_mode": {
    "name": "ipython",
    "version": 3
   },
   "file_extension": ".py",
   "mimetype": "text/x-python",
   "name": "python",
   "nbconvert_exporter": "python",
   "pygments_lexer": "ipython3",
   "version": "3.9.7"
  }
 },
 "nbformat": 4,
 "nbformat_minor": 4
}
