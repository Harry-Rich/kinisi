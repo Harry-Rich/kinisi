{
 "cells": [
  {
   "cell_type": "markdown",
   "metadata": {},
   "source": [
    "# Diffusion coefficient from a VASP file\n",
    "\n",
    "Using ``kinisi`` for the analysis of a VASP Xdatcar type file is really straightforward and involves using the ``DiffAnalyzer`` class."
   ]
  },
  {
   "cell_type": "code",
   "execution_count": 1,
   "metadata": {},
   "outputs": [],
   "source": [
    "import numpy as np\n",
    "from kinisi.analyze import DiffAnalyzer\n",
    "from pymatgen.io.vasp import Xdatcar\n",
    "np.random.seed(42)"
   ]
  },
  {
   "cell_type": "markdown",
   "metadata": {},
   "source": [
    "There the ``params`` dictionary describes details about the simulation, and are documented in the [parser module](./parser.html)."
   ]
  },
  {
   "cell_type": "code",
   "execution_count": 2,
   "metadata": {},
   "outputs": [],
   "source": [
    "params = {'specie': 'Li',\n",
    "          'time_step': 2.0,\n",
    "          'step_skip': 50,\n",
    "          'min_obs': 50}"
   ]
  },
  {
   "cell_type": "code",
   "execution_count": 3,
   "metadata": {},
   "outputs": [
    {
     "name": "stderr",
     "output_type": "stream",
     "text": [
      "Reading Trajectory: 100%|██████████| 140/140 [00:00<00:00, 3790.97it/s]\n",
      "Getting Displacements: 100%|██████████| 139/139 [00:00<00:00, 4131.03it/s]\n",
      "Bootstrapping Displacements: 100%|██████████| 139/139 [00:16<00:00,  8.29it/s]\n"
     ]
    }
   ],
   "source": [
    "xd = Xdatcar('example_XDATCAR.gz')\n",
    "diff = DiffAnalyzer(xd.structures, params, dtype='structures')"
   ]
  },
  {
   "cell_type": "markdown",
   "metadata": {},
   "source": [
    "The ``DiffAnalyzer`` will perform the block-bootstrapping process to obtain the displacements and uncertainties, before estimating the correlation matrix betwen the points to sample the diffusion coefficient, $D$, additionally the non-gaussian parameter is used to find the start of the diffusive regime (this is idenified on the plot below with the green vertical line).\n",
    "It is possible to then probe the `D` object itself.\n",
    "\n",
    "We can get the median and 95 % confidence interval using, "
   ]
  },
  {
   "cell_type": "code",
   "execution_count": 4,
   "metadata": {},
   "outputs": [
    {
     "data": {
      "text/plain": [
       "(1.417+/-0.016)e-4"
      ]
     },
     "execution_count": 4,
     "metadata": {},
     "output_type": "execute_result"
    }
   ],
   "source": [
    "diff.D"
   ]
  },
  {
   "cell_type": "markdown",
   "metadata": {},
   "source": [
    "We can plot the data and some of the samples from the $D$ and $D_{\\text{offset}}$ distribution."
   ]
  },
  {
   "cell_type": "code",
   "execution_count": 5,
   "metadata": {},
   "outputs": [],
   "source": [
    "import matplotlib.pyplot as plt"
   ]
  },
  {
   "cell_type": "code",
   "execution_count": 6,
   "metadata": {},
   "outputs": [
    {
     "data": {
      "image/png": "[encoded data removed]",
      "text/plain": [
       "<Figure size 432x288 with 1 Axes>"
      ]
     },
     "metadata": {
      "needs_background": "light"
     },
     "output_type": "display_data"
    }
   ],
   "source": [
    "plt.errorbar(diff.dt, diff.msd, diff.msd_err)\n",
    "for i in np.random.choice(diff.D.size, size=100):\n",
    "    plt.plot(diff.dt, diff.D.samples[i] * 6 * diff.dt + diff.D_offset.samples[i], 'k', alpha=0.1, zorder=10) \n",
    "plt.axvline(diff.ngp_max, color='g')\n",
    "plt.ylabel('MSD/Å$^2$')\n",
    "plt.xlabel('$\\Delta t$/fs')\n",
    "plt.show()"
   ]
  },
  {
   "cell_type": "markdown",
   "metadata": {},
   "source": [
    "Additionally, we can visualise the distribution of the diffusion coefficient that has been determined, note that we divide by `10` to change units."
   ]
  },
  {
   "cell_type": "code",
   "execution_count": 9,
   "metadata": {},
   "outputs": [
    {
     "data": {
      "image/png": "[encoded data removed]",
      "text/plain": [
       "<Figure size 432x288 with 1 Axes>"
      ]
     },
     "metadata": {
      "needs_background": "light"
     },
     "output_type": "display_data"
    }
   ],
   "source": [
    "plt.hist(diff.D.samples/10, density=True)\n",
    "plt.axvline(diff.D.n/10, c='k')\n",
    "plt.xlabel('$D$/cm$^2$s$^{-1}$')\n",
    "plt.ylabel('$p(D$/cm$^2$s$^{-1})$')\n",
    "plt.show()"
   ]
  },
  {
   "cell_type": "code",
   "execution_count": null,
   "metadata": {},
   "outputs": [],
   "source": []
  }
 ],
 "metadata": {
  "kernelspec": {
   "display_name": "Python [conda env:research]",
   "language": "python",
   "name": "conda-env-research-py"
  },
  "language_info": {
   "codemirror_mode": {
    "name": "ipython",
    "version": 3
   },
   "file_extension": ".py",
   "mimetype": "text/x-python",
   "name": "python",
   "nbconvert_exporter": "python",
   "pygments_lexer": "ipython3",
   "version": "3.9.1"
  }
 },
 "nbformat": 4,
 "nbformat_minor": 4
}
