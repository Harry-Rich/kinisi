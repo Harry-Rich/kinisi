{
 "cells": [
  {
   "cell_type": "code",
   "execution_count": 1,
   "metadata": {},
   "outputs": [],
   "source": [
    "import numpy as np\n",
    "from scipy.constants import k "
   ]
  },
  {
   "cell_type": "code",
   "execution_count": 2,
   "metadata": {},
   "outputs": [],
   "source": [
    "temps = np.linspace(300, 500, 5)"
   ]
  },
  {
   "cell_type": "code",
   "execution_count": 41,
   "metadata": {},
   "outputs": [],
   "source": [
    "d = 1 * np.exp(-4e-20 / (k * (temps)))\n",
    "#d = 1 * np.exp(-4e-20 / (k * (temps-200)))"
   ]
  },
  {
   "cell_type": "code",
   "execution_count": 42,
   "metadata": {},
   "outputs": [],
   "source": [
    "d += d * 0.1 * np.random.randn(5) * 1e-5"
   ]
  },
  {
   "cell_type": "code",
   "execution_count": 63,
   "metadata": {},
   "outputs": [],
   "source": [
    "d_err = 1 / temps * d * 100"
   ]
  },
  {
   "cell_type": "code",
   "execution_count": 64,
   "metadata": {},
   "outputs": [],
   "source": [
    "import matplotlib.pyplot as plt"
   ]
  },
  {
   "cell_type": "code",
   "execution_count": 65,
   "metadata": {},
   "outputs": [
    {
     "data": {
      "image/png": "[encoded data removed]",
      "text/plain": [
       "<Figure size 432x288 with 1 Axes>"
      ]
     },
     "metadata": {
      "needs_background": "light"
     },
     "output_type": "display_data"
    }
   ],
   "source": [
    "plt.errorbar(1/temps, d, d_err)\n",
    "plt.yscale('log')"
   ]
  },
  {
   "cell_type": "code",
   "execution_count": 56,
   "metadata": {},
   "outputs": [],
   "source": [
    "from kinisi.arrhenius import StandardArrhenius, SuperArrhenius"
   ]
  },
  {
   "cell_type": "code",
   "execution_count": 57,
   "metadata": {},
   "outputs": [],
   "source": [
    "stand = StandardArrhenius(temps, d, d_err)\n",
    "sup = SuperArrhenius(temps, d, d_err)"
   ]
  },
  {
   "cell_type": "code",
   "execution_count": 58,
   "metadata": {},
   "outputs": [
    {
     "name": "stdout",
     "output_type": "stream",
     "text": [
      "0.24966045+/-0.00000011 electron_volt 0.2496602+/-0.0000018 electron_volt\n"
     ]
    }
   ],
   "source": [
    "print(stand.activation_energy, sup.activation_energy)"
   ]
  },
  {
   "cell_type": "code",
   "execution_count": 59,
   "metadata": {},
   "outputs": [
    {
     "name": "stderr",
     "output_type": "stream",
     "text": [
      "461it [00:00, 965.13it/s, +500 | bound: 0 | nc: 1 | ncall: 1266 | eff(%): 75.908 | loglstar:   -inf < 62.693 <    inf | logz: 62.691 +/-    nan | dlogz:  0.001 >  0.509]\n"
     ]
    }
   ],
   "source": [
    "stand.nested_sampling()"
   ]
  },
  {
   "cell_type": "code",
   "execution_count": 60,
   "metadata": {},
   "outputs": [
    {
     "name": "stderr",
     "output_type": "stream",
     "text": [
      "462it [00:00, 702.28it/s, +500 | bound: 0 | nc: 1 | ncall: 1302 | eff(%): 73.886 | loglstar:   -inf < 62.693 <    inf | logz: 62.689 +/-    nan | dlogz:  0.001 >  0.509]\n"
     ]
    }
   ],
   "source": [
    "sup.nested_sampling()"
   ]
  },
  {
   "cell_type": "code",
   "execution_count": 61,
   "metadata": {},
   "outputs": [
    {
     "data": {
      "text/plain": [
       "[4.0000013918572254e-20+/-1.697187221581873e-26,\n",
       " 1.000002590767969+/-3.026255564332593e-06]"
      ]
     },
     "execution_count": 61,
     "metadata": {},
     "output_type": "execute_result"
    }
   ],
   "source": [
    "stand.variables"
   ]
  },
  {
   "cell_type": "code",
   "execution_count": 62,
   "metadata": {},
   "outputs": [
    {
     "data": {
      "text/plain": [
       "[3.999996845379451e-20+/-2.920068497067348e-25,\n",
       " 0.9999984282404812+/-2.743037352859078e-05,\n",
       " 0.00021758491536344194+/-0.0013698459098773232]"
      ]
     },
     "execution_count": 62,
     "metadata": {},
     "output_type": "execute_result"
    }
   ],
   "source": [
    "sup.variables"
   ]
  },
  {
   "cell_type": "code",
   "execution_count": null,
   "metadata": {},
   "outputs": [],
   "source": []
  }
 ],
 "metadata": {
  "kernelspec": {
   "display_name": "Python 3",
   "language": "python",
   "name": "python3"
  },
  "language_info": {
   "codemirror_mode": {
    "name": "ipython",
    "version": 3
   },
   "file_extension": ".py",
   "mimetype": "text/x-python",
   "name": "python",
   "nbconvert_exporter": "python",
   "pygments_lexer": "ipython3",
   "version": "3.7.3"
  }
 },
 "nbformat": 4,
 "nbformat_minor": 4
}
